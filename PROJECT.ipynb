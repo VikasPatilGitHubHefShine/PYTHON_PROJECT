{
 "cells": [
  {
   "cell_type": "code",
   "execution_count": null,
   "id": "036b836e",
   "metadata": {},
   "outputs": [],
   "source": [
    "# PZZULE_GAME\n",
    "\n",
    "import random\n",
    "print(\"Hello !\")\n",
    "print()\n",
    "name = input(\"What is your name? :\")\n",
    "print()\n",
    "print(\"Good luck \",name,\"let's start puzzel\")\n",
    "print()\n",
    "word = [\"vikas\",\"rahul\",\"pramod\",\"amol\",\"samadhan\",\"pankaj\",\"karan\",\"kiran\",\"yogesh\"]\n",
    "\n",
    "i = 0\n",
    "\n",
    "j=0\n",
    "while i <= 4: \n",
    "    element = random.choice(word)\n",
    "    char = random.sample(element,len(element))\n",
    "    join = (\"\").join(char)\n",
    "    \n",
    "    print(join)\n",
    "    guess = input()\n",
    "    if guess == element:\n",
    "        print(\"Correct..Lets try another\")\n",
    "        j += 1 \n",
    "    else:\n",
    "        print(\"Wrong attempt.....Negative Marking applied\")\n",
    "        j-=1\n",
    "\n",
    "    print()\n",
    "    i += 1\n",
    "if j == 5:\n",
    "    print(f\"Wow You done great job got All {j} Guess correct...!!\")\n",
    "else:\n",
    "    print(f\" Your score is {j}..Try again for best score 5\")"
   ]
  },
  {
   "cell_type": "code",
   "execution_count": null,
   "id": "5b4bb14b",
   "metadata": {},
   "outputs": [],
   "source": []
  }
 ],
 "metadata": {
  "kernelspec": {
   "display_name": "Python 3 (ipykernel)",
   "language": "python",
   "name": "python3"
  },
  "language_info": {
   "codemirror_mode": {
    "name": "ipython",
    "version": 3
   },
   "file_extension": ".py",
   "mimetype": "text/x-python",
   "name": "python",
   "nbconvert_exporter": "python",
   "pygments_lexer": "ipython3",
   "version": "3.9.7"
  }
 },
 "nbformat": 4,
 "nbformat_minor": 5
}
